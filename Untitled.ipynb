{
 "cells": [
  {
   "cell_type": "code",
   "execution_count": 3,
   "id": "9ecf5cda-bbca-49eb-a355-33d74a4b766e",
   "metadata": {},
   "outputs": [
    {
     "name": "stdout",
     "output_type": "stream",
     "text": [
      "Electoral Votes\n",
      "55     0.0888\n",
      "73     0.0848\n",
      "102    0.0832\n",
      "84     0.0754\n",
      "111    0.0662\n",
      "140    0.0662\n",
      "93     0.0655\n",
      "122    0.0640\n",
      "0      0.0585\n",
      "29     0.0567\n",
      "47     0.0564\n",
      "18     0.0543\n",
      "85     0.0467\n",
      "38     0.0461\n",
      "56     0.0438\n",
      "67     0.0434\n",
      "Name: proportion, dtype: float64\n"
     ]
    }
   ],
   "source": [
    "import numpy as np\n",
    "import pandas as pd\n",
    "\n",
    "# Number of simulations\n",
    "n_simulations = 10000\n",
    "\n",
    "# Electoral college votes for each state (example for a few states)\n",
    "states = {\n",
    "    'California': {'votes': 55, 'poll': 0.60},  # Example polling probability\n",
    "    'Texas': {'votes': 38, 'poll': 0.45},\n",
    "    'Florida': {'votes': 29, 'poll': 0.48},\n",
    "    'Ohio': {'votes': 18, 'poll': 0.50},\n",
    "    # Add all other states\n",
    "}\n",
    "\n",
    "# Function to simulate election outcomes\n",
    "def simulate_election(states, n_simulations):\n",
    "    results = []\n",
    "    for _ in range(n_simulations):\n",
    "        electoral_votes = 0\n",
    "        for state, data in states.items():\n",
    "            poll_result = np.random.rand() < data['poll']  # Simulate based on poll\n",
    "            if poll_result:\n",
    "                electoral_votes += data['votes']  # Add votes if candidate wins state\n",
    "        results.append(electoral_votes)\n",
    "    return results\n",
    "\n",
    "# Run simulations\n",
    "results = simulate_election(states, n_simulations)\n",
    "\n",
    "# Calculate probabilities of different outcomes\n",
    "results_df = pd.DataFrame(results, columns=['Electoral Votes'])\n",
    "outcome_probabilities = results_df['Electoral Votes'].value_counts(normalize=True)\n",
    "\n",
    "# Display results\n",
    "print(outcome_probabilities)\n"
   ]
  }
 ],
 "metadata": {
  "kernelspec": {
   "display_name": "Python 3.11 (default)",
   "language": "python",
   "name": "python3"
  },
  "language_info": {
   "codemirror_mode": {
    "name": "ipython",
    "version": 3
   },
   "file_extension": ".py",
   "mimetype": "text/x-python",
   "name": "python",
   "nbconvert_exporter": "python",
   "pygments_lexer": "ipython3",
   "version": "3.11.9"
  }
 },
 "nbformat": 4,
 "nbformat_minor": 5
}
