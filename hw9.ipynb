{
 "cells": [
  {
   "cell_type": "markdown",
   "id": "6400e2b9-6f47-418b-9dd4-fe78b40a495a",
   "metadata": {},
   "source": [
    "# STT 441: Probability, Section 002, Dr. Yuying Xie\n",
    "## Homework 9 - 11/08/2024\n",
    "\n",
    "This notebook contains the computational work completed by Lowell Monis toward Homework 9.\n",
    "\n",
    "**Question 17.** In the textbook, we calculate the confidence interval of $p$ via norm approximation\n",
    "\n",
    "$P(-\\epsilon < p - \\hat{p} < \\epsilon) \\approx P \\left( -\\frac{\\sqrt{n} \\epsilon}{\\sqrt{p(1 - p)}} < Z < \\frac{\\sqrt{n} \\epsilon}{\\sqrt{p(1 - p)}} \\right)$\n",
    "\n",
    "Here to handle the unknown $p$, we use a lower bound trick **(Type I)**\n",
    "\n",
    "$P \\left( -\\frac{\\sqrt{n} \\epsilon}{\\sqrt{p(1 - p)}} < Z < \\frac{\\sqrt{n} \\epsilon}{\\sqrt{p(1 - p)}} \\right) > 2 \\Phi(2 \\epsilon \\sqrt{n}) - 1$\n",
    "\n",
    "Another way is to replace $p$ simply with $\\hat{p} = S_n / n$ **(Type II)**. Now, let’s compare these two types of confidence intervals.\n",
    "\n",
    "1. **Step 1**: Simulate $n = 64$ Bernoulli random variables with $p = 0.3$ and calculate $\\hat{p}$. Calculate two types of $95\\%$ confidence intervals as described above and check whether they contain the true $p$.\n",
    "2. **Step 2**: Repeat Step 1 for $m = 1000$ times and check which type of $95\\%$ confidence interval will at least cover the true $p$ for more than $95\\%$ of times.\n",
    "3. **Step 3**: Repeat Step 2 for 100 times. What conclusion will you make?\n",
    "\n",
    "***"
   ]
  },
  {
   "cell_type": "markdown",
   "id": "244b2c9d-692a-4521-bfdf-eb24c6bcd49d",
   "metadata": {},
   "source": [
    "### Solution\n",
    "\n",
    "#### Define parameters and setup the simulation\n",
    "\n",
    "1. Sample size $n = 64$\n",
    "1. True proportion $p = 0.3$\n",
    "2. We need to simulate $m=1000$ samples of size $n$ between the two types of confidence intervals.\n",
    "3. Each simulation verifies if the interval covers $p$. Confidence set at $95\\%$.\n",
    "\n",
    "#### Define confidence intervals\n",
    "\n",
    "##### Type I (Lower-bound Trick)\n",
    "\n",
    "$$P \\left( -\\frac{\\sqrt{n} \\epsilon}{\\sqrt{p(1 - p)}} < Z < \\frac{\\sqrt{n} \\epsilon}{\\sqrt{p(1 - p)}} \\right) > 2 \\Phi(2 \\epsilon \\sqrt{n}) - 1$$\n",
    "\n",
    "This calculation involves knowing $p$. As visible above, it is used in the interval construction.\n",
    "\n",
    "##### Type II\n",
    "\n",
    "We use the estimated $\\hat{p}=\\frac{S_n}{n}$.\n",
    "\n",
    "#### Run Simulation\n",
    "\n",
    "For each of the $1000$ simulations, we generate $64$ Bernoulli trials with $p=0.3$. We calculate $\\hat{p}$ for each sample and then compute both types of $95\\%$ confidence intervals. Then we verify if each interval contains $p=0.3$.\n",
    "\n",
    "We repeat the experiment $100$ times to be sure of our answers. We then present the percentage of times each type of interval successfully covers the true value of $p$ across these simulations."
   ]
  },
  {
   "cell_type": "code",
   "execution_count": 9,
   "id": "9bd4a55d-4ddc-4a04-9fcf-21df3d99dc6b",
   "metadata": {},
   "outputs": [
    {
     "data": {
      "text/plain": [
       "(100.0, 94.413)"
      ]
     },
     "execution_count": 9,
     "metadata": {},
     "output_type": "execute_result"
    }
   ],
   "source": [
    "# setup, importing required modules\n",
    "\n",
    "import numpy as np\n",
    "from scipy.stats import norm\n",
    "\n",
    "# parameters\n",
    "p = 0.3       # true proportion\n",
    "n = 64        # sample size for each simulation\n",
    "m = 1000      # number of simulations\n",
    "trials = 100  # numnber of times to repeat the entire process\n",
    "\n",
    "# confidence level\n",
    "c = 0.95\n",
    "ep = 1 - c\n",
    "z = norm.ppf(1 - ep / 2)\n",
    "\n",
    "# result storage\n",
    "type1 = []\n",
    "type2 = []\n",
    "\n",
    "# run the trial for the specified number of times\n",
    "for _ in range(trials):\n",
    "    type1c = 0\n",
    "    type2c = 0\n",
    "\n",
    "    # running m simulations for each trial\n",
    "    for _ in range(m):\n",
    "        # step 1\n",
    "        sample = np.random.binomial(1, p, n)\n",
    "        p_hat = np.mean(sample)  # Sample proportion\n",
    "\n",
    "        # type I\n",
    "        type1_margin = z * np.sqrt(p * (1 - p) / n)\n",
    "        type1_lower = p - type1_margin\n",
    "        type1_upper = p + type1_margin\n",
    "\n",
    "        # type II\n",
    "        type2_margin = z * np.sqrt(p_hat * (1 - p_hat) / n)\n",
    "        type2_lower = p_hat - type2_margin\n",
    "        type2_upper = p_hat + type2_margin\n",
    "\n",
    "        # check if the intervals contain p\n",
    "        if type1_lower <= p <= type1_upper:\n",
    "            type1c += 1\n",
    "        if type2_lower <= p <= type2_upper:\n",
    "            type2c += 1\n",
    "\n",
    "    # Calculate coverage percentage for this trial\n",
    "    type1.append(type1c / m)\n",
    "    type2.append(type2c / m)\n",
    "\n",
    "# average coverage over all trials\n",
    "type1_avg_coverage = np.mean(type1) * 100\n",
    "type2_avg_coverage = np.mean(type2) * 100\n",
    "\n",
    "type1_avg_coverage, type2_avg_coverage"
   ]
  },
  {
   "cell_type": "markdown",
   "id": "b8d97009-54b3-4d9d-a871-3a57219726f1",
   "metadata": {},
   "source": [
    "#### Conclusion\n",
    "\n",
    "From the above experiment, the Type I intervals always cover the true value, as compared to the intervals based on the estimate (Type II), which also have a high confidence level, albeit lower than Type I. Therefore, **I will rely more on the Type I Confidence Interval in this scenario in terms of coverage**."
   ]
  },
  {
   "cell_type": "markdown",
   "id": "47519c96-5e30-4508-9362-77ae47b3b41b",
   "metadata": {},
   "source": [
    "#### References\n",
    "\n",
    "I referred to the Scipy website to learn more about statistical functions and `scipy.stats`."
   ]
  }
 ],
 "metadata": {
  "kernelspec": {
   "display_name": "Python 3.11 (default)",
   "language": "python",
   "name": "python3"
  },
  "language_info": {
   "codemirror_mode": {
    "name": "ipython",
    "version": 3
   },
   "file_extension": ".py",
   "mimetype": "text/x-python",
   "name": "python",
   "nbconvert_exporter": "python",
   "pygments_lexer": "ipython3",
   "version": "3.11.9"
  }
 },
 "nbformat": 4,
 "nbformat_minor": 5
}
